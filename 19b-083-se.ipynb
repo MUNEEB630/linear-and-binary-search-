{
 "cells": [
  {
   "cell_type": "code",
   "execution_count": 1,
   "metadata": {},
   "outputs": [
    {
     "data": {
      "text/plain": [
       "5"
      ]
     },
     "execution_count": 1,
     "metadata": {},
     "output_type": "execute_result"
    }
   ],
   "source": [
    "##1\n",
    "def LinearSearch(list,value):\n",
    "    for i in range(len(list)):\n",
    "        if list[i] == value:\n",
    "            return i\n",
    "    return -1\n",
    "list = [1,2,3,4,5,6]\n",
    "value = 6\n",
    "LinearSearch(list,value)"
   ]
  },
  {
   "cell_type": "code",
   "execution_count": 2,
   "metadata": {},
   "outputs": [
    {
     "name": "stdout",
     "output_type": "stream",
     "text": [
      "4\n"
     ]
    }
   ],
   "source": [
    "def BinarySearch(list,n,value):\n",
    "    n = len(list)\n",
    "    l = 0\n",
    "    r = n - 1\n",
    "    while l <= r:\n",
    "        m = (l + r) // 2\n",
    "        if list[m] < value:\n",
    "            l = m + 1\n",
    "        elif list[m] > value:\n",
    "            r = m - 1\n",
    "\n",
    "        else:\n",
    "            return m\n",
    "    return -1\n",
    "list = [1,2,3,4,5,6,7,8,9,10]\n",
    "n = len(list)\n",
    "value = 5\n",
    "print(BinarySearch(list,n,value))"
   ]
  },
  {
   "cell_type": "code",
   "execution_count": 7,
   "metadata": {},
   "outputs": [
    {
     "name": "stdout",
     "output_type": "stream",
     "text": [
      "[3]\n",
      "[2, 3]\n",
      "[1, 2, 3]\n",
      "[1, 2, 3, 5]\n",
      "[1, 2, 3, 5, 6]\n",
      "[1, 2, 3, 5, 6, 7]\n",
      "\n",
      "Delete From First\n",
      "[2, 3, 5, 6, 7]\n",
      "\n",
      "Delete From Last\n",
      "[2, 3, 5, 6]\n",
      "\n",
      "Linear Search\n",
      "3\n",
      "\n",
      "Binary Search\n",
      "1\n",
      "\n",
      "Sorted \n",
      "True\n",
      "\n",
      "Search\n",
      "Binary Search\n",
      "2\n"
     ]
    }
   ],
   "source": [
    "## Question 3\n",
    "class List:\n",
    "    data = []\n",
    "    def _init_(self):\n",
    "        pass\n",
    "\n",
    "    def InsertAtFirst(self, value):\n",
    "        self.data.insert(0,value)\n",
    "        return self.data\n",
    "\n",
    "    def InsertAtLast(self,value):\n",
    "        self.data.insert(len(self.data),value)\n",
    "        return self.data\n",
    "\n",
    "    def DeleteFromFirst(self):\n",
    "        self.data = self.data[1:]\n",
    "        return self.data\n",
    "    def DeleteFromLast(self):\n",
    "        self.data = self.data[:-1]\n",
    "        return self.data\n",
    "    def LinearSearch(self, value):\n",
    "        for i in range(len(self.data)):\n",
    "            if self.data[i] == value:\n",
    "                return i\n",
    "        return -1\n",
    "\n",
    "    def BinarySearch(self, value):\n",
    "        n = len(self.data)\n",
    "        l = 0\n",
    "        r = n - 1\n",
    "        while l <= r:\n",
    "            m = (l + r) // 2\n",
    "            if self.data[m] < value:\n",
    "                l = m + 1\n",
    "            elif self.data[m] > value:\n",
    "                r = m - 1\n",
    "\n",
    "            else:\n",
    "                return m\n",
    "        return -1\n",
    "\n",
    "    def IsSorted(self):\n",
    "        for i in self.data:\n",
    "            if self.data[i] < self.data[i+1]:\n",
    "                return True\n",
    "            return False\n",
    "        \n",
    "\n",
    "    def Search(self,value):\n",
    "        if obj.IsSorted() == True:\n",
    "            print(\"Binary Search\")\n",
    "            n = len(self.data)\n",
    "            l = 0\n",
    "            r = n - 1\n",
    "            while l <= r:\n",
    "                m = (l + r) // 2\n",
    "                if self.data[m] < value:\n",
    "                    l = m + 1\n",
    "                elif self.data[m] > value:\n",
    "                    r = m - 1\n",
    "\n",
    "                else:\n",
    "                    return m\n",
    "            return -1\n",
    "        else:\n",
    "            print(\"Linear Search\")\n",
    "            for i in range(len(self.data)):\n",
    "                if self.data[i] == value:\n",
    "                    return i\n",
    "            return 'not in list'\n",
    "\n",
    "\n",
    "obj = List()\n",
    "print(obj.InsertAtFirst(3))\n",
    "print(obj.InsertAtFirst(2))\n",
    "print(obj.InsertAtFirst(1))\n",
    "print(obj.InsertAtLast(5))\n",
    "print(obj.InsertAtLast(6))\n",
    "print(obj.InsertAtLast(7))\n",
    "print('\\nDelete From First')\n",
    "print(obj.DeleteFromFirst())\n",
    "print('\\nDelete From Last')\n",
    "print(obj.DeleteFromLast())\n",
    "print('\\nLinear Search')\n",
    "print(obj.LinearSearch(6))\n",
    "print('\\nBinary Search')\n",
    "print(obj.BinarySearch(3))\n",
    "\n",
    "print('\\nSorted ')\n",
    "print(obj.IsSorted())\n",
    "print(\"\\nSearch\")\n",
    "print(obj.Search(5))"
   ]
  },
  {
   "cell_type": "code",
   "execution_count": null,
   "metadata": {},
   "outputs": [],
   "source": []
  },
  {
   "cell_type": "code",
   "execution_count": null,
   "metadata": {},
   "outputs": [],
   "source": []
  },
  {
   "cell_type": "code",
   "execution_count": null,
   "metadata": {},
   "outputs": [],
   "source": []
  }
 ],
 "metadata": {
  "kernelspec": {
   "display_name": "Python 3",
   "language": "python",
   "name": "python3"
  },
  "language_info": {
   "codemirror_mode": {
    "name": "ipython",
    "version": 3
   },
   "file_extension": ".py",
   "mimetype": "text/x-python",
   "name": "python",
   "nbconvert_exporter": "python",
   "pygments_lexer": "ipython3",
   "version": "3.8.3"
  }
 },
 "nbformat": 4,
 "nbformat_minor": 4
}
